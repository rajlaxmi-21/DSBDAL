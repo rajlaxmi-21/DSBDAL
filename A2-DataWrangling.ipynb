{
 "cells": [
  {
   "cell_type": "code",
   "execution_count": 58,
   "id": "65d51b40-7f0c-4ef5-8c87-d89124d88338",
   "metadata": {},
   "outputs": [],
   "source": [
    "import pandas as pd\n",
    "import numpy as np"
   ]
  },
  {
   "cell_type": "code",
   "execution_count": 122,
   "id": "857a3a7e-cf20-474d-a39c-ca52e48cb365",
   "metadata": {},
   "outputs": [],
   "source": [
    "data = {\n",
    "    'studID' : range(1,13),\n",
    "    'Math' : [88, 92,12, np.nan, 45, 60, 74, 99, 105, 77, 59, 140],\n",
    "    'Science' : [76, 85, 91, 44, 160, 39, 72, 95, 88, np.nan, 12, 67],\n",
    "    'Attendance_Rate': [0.95 ,0.76, 0.87, 0.91, 0.65, 0.50, 0.89, 0.97, 1.00, 0.98, 0.92, 0.85]\n",
    "}"
   ]
  },
  {
   "cell_type": "code",
   "execution_count": 124,
   "id": "c36c1ac3-e67d-47ff-9dff-7568e3d8a52f",
   "metadata": {},
   "outputs": [
    {
     "data": {
      "text/plain": [
       "{'studID': range(1, 13),\n",
       " 'Math': [88, 92, 12, nan, 45, 60, 74, 99, 105, 77, 59, 140],\n",
       " 'Science': [76, 85, 91, 44, 160, 39, 72, 95, 88, nan, 12, 67],\n",
       " 'Attendance_Rate': [0.95,\n",
       "  0.76,\n",
       "  0.87,\n",
       "  0.91,\n",
       "  0.65,\n",
       "  0.5,\n",
       "  0.89,\n",
       "  0.97,\n",
       "  1.0,\n",
       "  0.98,\n",
       "  0.92,\n",
       "  0.85]}"
      ]
     },
     "execution_count": 124,
     "metadata": {},
     "output_type": "execute_result"
    }
   ],
   "source": [
    "data"
   ]
  },
  {
   "cell_type": "code",
   "execution_count": 126,
   "id": "5ec1876a-f2e5-4272-b4d4-fd702561e250",
   "metadata": {},
   "outputs": [],
   "source": [
    "df=pd.DataFrame(data)"
   ]
  },
  {
   "cell_type": "code",
   "execution_count": 128,
   "id": "7dc1a768-9dce-458c-9971-cc160a8e226b",
   "metadata": {},
   "outputs": [
    {
     "data": {
      "text/html": [
       "<div>\n",
       "<style scoped>\n",
       "    .dataframe tbody tr th:only-of-type {\n",
       "        vertical-align: middle;\n",
       "    }\n",
       "\n",
       "    .dataframe tbody tr th {\n",
       "        vertical-align: top;\n",
       "    }\n",
       "\n",
       "    .dataframe thead th {\n",
       "        text-align: right;\n",
       "    }\n",
       "</style>\n",
       "<table border=\"1\" class=\"dataframe\">\n",
       "  <thead>\n",
       "    <tr style=\"text-align: right;\">\n",
       "      <th></th>\n",
       "      <th>studID</th>\n",
       "      <th>Math</th>\n",
       "      <th>Science</th>\n",
       "      <th>Attendance_Rate</th>\n",
       "    </tr>\n",
       "  </thead>\n",
       "  <tbody>\n",
       "    <tr>\n",
       "      <th>0</th>\n",
       "      <td>1</td>\n",
       "      <td>88.0</td>\n",
       "      <td>76.0</td>\n",
       "      <td>0.95</td>\n",
       "    </tr>\n",
       "    <tr>\n",
       "      <th>1</th>\n",
       "      <td>2</td>\n",
       "      <td>92.0</td>\n",
       "      <td>85.0</td>\n",
       "      <td>0.76</td>\n",
       "    </tr>\n",
       "    <tr>\n",
       "      <th>2</th>\n",
       "      <td>3</td>\n",
       "      <td>12.0</td>\n",
       "      <td>91.0</td>\n",
       "      <td>0.87</td>\n",
       "    </tr>\n",
       "    <tr>\n",
       "      <th>3</th>\n",
       "      <td>4</td>\n",
       "      <td>NaN</td>\n",
       "      <td>44.0</td>\n",
       "      <td>0.91</td>\n",
       "    </tr>\n",
       "    <tr>\n",
       "      <th>4</th>\n",
       "      <td>5</td>\n",
       "      <td>45.0</td>\n",
       "      <td>160.0</td>\n",
       "      <td>0.65</td>\n",
       "    </tr>\n",
       "    <tr>\n",
       "      <th>5</th>\n",
       "      <td>6</td>\n",
       "      <td>60.0</td>\n",
       "      <td>39.0</td>\n",
       "      <td>0.50</td>\n",
       "    </tr>\n",
       "    <tr>\n",
       "      <th>6</th>\n",
       "      <td>7</td>\n",
       "      <td>74.0</td>\n",
       "      <td>72.0</td>\n",
       "      <td>0.89</td>\n",
       "    </tr>\n",
       "    <tr>\n",
       "      <th>7</th>\n",
       "      <td>8</td>\n",
       "      <td>99.0</td>\n",
       "      <td>95.0</td>\n",
       "      <td>0.97</td>\n",
       "    </tr>\n",
       "    <tr>\n",
       "      <th>8</th>\n",
       "      <td>9</td>\n",
       "      <td>105.0</td>\n",
       "      <td>88.0</td>\n",
       "      <td>1.00</td>\n",
       "    </tr>\n",
       "    <tr>\n",
       "      <th>9</th>\n",
       "      <td>10</td>\n",
       "      <td>77.0</td>\n",
       "      <td>NaN</td>\n",
       "      <td>0.98</td>\n",
       "    </tr>\n",
       "    <tr>\n",
       "      <th>10</th>\n",
       "      <td>11</td>\n",
       "      <td>59.0</td>\n",
       "      <td>12.0</td>\n",
       "      <td>0.92</td>\n",
       "    </tr>\n",
       "    <tr>\n",
       "      <th>11</th>\n",
       "      <td>12</td>\n",
       "      <td>140.0</td>\n",
       "      <td>67.0</td>\n",
       "      <td>0.85</td>\n",
       "    </tr>\n",
       "  </tbody>\n",
       "</table>\n",
       "</div>"
      ],
      "text/plain": [
       "    studID   Math  Science  Attendance_Rate\n",
       "0        1   88.0     76.0             0.95\n",
       "1        2   92.0     85.0             0.76\n",
       "2        3   12.0     91.0             0.87\n",
       "3        4    NaN     44.0             0.91\n",
       "4        5   45.0    160.0             0.65\n",
       "5        6   60.0     39.0             0.50\n",
       "6        7   74.0     72.0             0.89\n",
       "7        8   99.0     95.0             0.97\n",
       "8        9  105.0     88.0             1.00\n",
       "9       10   77.0      NaN             0.98\n",
       "10      11   59.0     12.0             0.92\n",
       "11      12  140.0     67.0             0.85"
      ]
     },
     "execution_count": 128,
     "metadata": {},
     "output_type": "execute_result"
    }
   ],
   "source": [
    "df"
   ]
  },
  {
   "cell_type": "markdown",
   "id": "7c8ae894-a5b2-44bb-a862-3aa44795154c",
   "metadata": {},
   "source": [
    "## 1. Handling missing values"
   ]
  },
  {
   "cell_type": "code",
   "execution_count": 131,
   "id": "fae3918a-8a1d-4937-97bc-e1655943a04b",
   "metadata": {},
   "outputs": [
    {
     "data": {
      "text/plain": [
       "studID             0\n",
       "Math               1\n",
       "Science            1\n",
       "Attendance_Rate    0\n",
       "dtype: int64"
      ]
     },
     "execution_count": 131,
     "metadata": {},
     "output_type": "execute_result"
    }
   ],
   "source": [
    "df.isnull().sum()"
   ]
  },
  {
   "cell_type": "code",
   "execution_count": 133,
   "id": "990600dd-4abf-4b7c-aa38-0ea8950b461b",
   "metadata": {},
   "outputs": [
    {
     "data": {
      "text/plain": [
       "studID               int64\n",
       "Math               float64\n",
       "Science            float64\n",
       "Attendance_Rate    float64\n",
       "dtype: object"
      ]
     },
     "execution_count": 133,
     "metadata": {},
     "output_type": "execute_result"
    }
   ],
   "source": [
    "df.dtypes"
   ]
  },
  {
   "cell_type": "code",
   "execution_count": 135,
   "id": "fdadcdf5-dd1c-4fd1-a7ad-ff690efa7fa3",
   "metadata": {},
   "outputs": [],
   "source": [
    "df['Math'] = df['Math'].fillna(df['Math'].mean())"
   ]
  },
  {
   "cell_type": "code",
   "execution_count": 137,
   "id": "f5d02d4d-7668-42c2-af68-2456fc0dd61c",
   "metadata": {},
   "outputs": [
    {
     "name": "stdout",
     "output_type": "stream",
     "text": [
      "    studID        Math  Science  Attendance_Rate\n",
      "0        1   88.000000     76.0             0.95\n",
      "1        2   92.000000     85.0             0.76\n",
      "2        3   12.000000     91.0             0.87\n",
      "3        4   77.363636     44.0             0.91\n",
      "4        5   45.000000    160.0             0.65\n",
      "5        6   60.000000     39.0             0.50\n",
      "6        7   74.000000     72.0             0.89\n",
      "7        8   99.000000     95.0             0.97\n",
      "8        9  105.000000     88.0             1.00\n",
      "9       10   77.000000      NaN             0.98\n",
      "10      11   59.000000     12.0             0.92\n",
      "11      12  140.000000     67.0             0.85\n"
     ]
    }
   ],
   "source": [
    "print(df)"
   ]
  },
  {
   "cell_type": "code",
   "execution_count": 139,
   "id": "98975d09-e415-4979-bc23-0988edab345e",
   "metadata": {},
   "outputs": [],
   "source": [
    "df['Science'] = df['Science'].fillna(df['Science'].mean())"
   ]
  },
  {
   "cell_type": "code",
   "execution_count": 141,
   "id": "e80ecadc-0fef-4a29-a68a-24d17dea244b",
   "metadata": {},
   "outputs": [
    {
     "data": {
      "text/plain": [
       "studID             0\n",
       "Math               0\n",
       "Science            0\n",
       "Attendance_Rate    0\n",
       "dtype: int64"
      ]
     },
     "execution_count": 141,
     "metadata": {},
     "output_type": "execute_result"
    }
   ],
   "source": [
    "df.isnull().sum()"
   ]
  },
  {
   "cell_type": "markdown",
   "id": "7892b05a-b8d3-4401-8b8d-278ff4833c41",
   "metadata": {},
   "source": [
    "## 2. Handling outliers"
   ]
  },
  {
   "cell_type": "code",
   "execution_count": 144,
   "id": "a3407634-ef55-420a-851c-5793dc20946a",
   "metadata": {},
   "outputs": [],
   "source": [
    "import seaborn as sns\n",
    "import matplotlib.pyplot as plt"
   ]
  },
  {
   "cell_type": "code",
   "execution_count": 146,
   "id": "4756ecac-c475-4a59-8104-43f3faf3f00b",
   "metadata": {},
   "outputs": [
    {
     "data": {
      "text/plain": [
       "<Axes: ylabel='Science'>"
      ]
     },
     "execution_count": 146,
     "metadata": {},
     "output_type": "execute_result"
    },
    {
     "data": {
      "image/png": "[encoded data removed]",
      "text/plain": [
       "<Figure size 1200x400 with 2 Axes>"
      ]
     },
     "metadata": {},
     "output_type": "display_data"
    }
   ],
   "source": [
    "fig, (ax1, ax2) = plt.subplots(ncols=2, figsize=(12,4))\n",
    "sns.boxplot( df['Math'], ax=ax1)\n",
    "sns.boxplot(df['Science'],ax=ax2)"
   ]
  },
  {
   "cell_type": "code",
   "execution_count": 148,
   "id": "30f56301-4d16-43e3-93ac-b0fc15f1f38c",
   "metadata": {},
   "outputs": [],
   "source": [
    "Q1 = df['Science'].quantile(0.25)\n",
    "Q3 = df['Science'].quantile(0.75)\n",
    "IQR = Q3 - Q1\n",
    "lower = Q1 - 1.5 * IQR\n",
    "upper = Q3 + 1.5 * IQR"
   ]
  },
  {
   "cell_type": "code",
   "execution_count": 150,
   "id": "75a6c2fd-23db-4d71-940b-904b8b445a23",
   "metadata": {},
   "outputs": [
    {
     "data": {
      "text/plain": [
       "20.0"
      ]
     },
     "execution_count": 150,
     "metadata": {},
     "output_type": "execute_result"
    }
   ],
   "source": [
    "lower"
   ]
  },
  {
   "cell_type": "code",
   "execution_count": 152,
   "id": "9e8263f5-df3a-4ee6-811f-48599c502584",
   "metadata": {},
   "outputs": [
    {
     "data": {
      "text/plain": [
       "130.0"
      ]
     },
     "execution_count": 152,
     "metadata": {},
     "output_type": "execute_result"
    }
   ],
   "source": [
    "upper"
   ]
  },
  {
   "cell_type": "code",
   "execution_count": 166,
   "id": "c85eb1a1-0c93-461b-945f-34e9a42866d3",
   "metadata": {},
   "outputs": [],
   "source": [
    "mask=(df['Science']<=lower) | (df['Science']>=upper)"
   ]
  },
  {
   "cell_type": "code",
   "execution_count": 168,
   "id": "21152e3e-a2ac-40e4-8d73-aacc9d163796",
   "metadata": {},
   "outputs": [
    {
     "data": {
      "text/plain": [
       "0     False\n",
       "1     False\n",
       "2     False\n",
       "3     False\n",
       "4      True\n",
       "5     False\n",
       "6     False\n",
       "7     False\n",
       "8     False\n",
       "9     False\n",
       "10     True\n",
       "11    False\n",
       "Name: Science, dtype: bool"
      ]
     },
     "execution_count": 168,
     "metadata": {},
     "output_type": "execute_result"
    }
   ],
   "source": [
    "mask"
   ]
  },
  {
   "cell_type": "code",
   "execution_count": 174,
   "id": "f002cead-6b56-452b-bc3f-49e97244922a",
   "metadata": {},
   "outputs": [],
   "source": [
    "df['Science']=np.where(df['Science']>upper, upper, np.where(df['Science']<lower, lower, df['Science']))"
   ]
  },
  {
   "cell_type": "code",
   "execution_count": 176,
   "id": "79a05135-b352-4194-8776-09e182c3d277",
   "metadata": {},
   "outputs": [
    {
     "data": {
      "text/html": [
       "<div>\n",
       "<style scoped>\n",
       "    .dataframe tbody tr th:only-of-type {\n",
       "        vertical-align: middle;\n",
       "    }\n",
       "\n",
       "    .dataframe tbody tr th {\n",
       "        vertical-align: top;\n",
       "    }\n",
       "\n",
       "    .dataframe thead th {\n",
       "        text-align: right;\n",
       "    }\n",
       "</style>\n",
       "<table border=\"1\" class=\"dataframe\">\n",
       "  <thead>\n",
       "    <tr style=\"text-align: right;\">\n",
       "      <th></th>\n",
       "      <th>studID</th>\n",
       "      <th>Math</th>\n",
       "      <th>Science</th>\n",
       "      <th>Attendance_Rate</th>\n",
       "    </tr>\n",
       "  </thead>\n",
       "  <tbody>\n",
       "    <tr>\n",
       "      <th>0</th>\n",
       "      <td>1</td>\n",
       "      <td>88.000000</td>\n",
       "      <td>76.000000</td>\n",
       "      <td>0.95</td>\n",
       "    </tr>\n",
       "    <tr>\n",
       "      <th>1</th>\n",
       "      <td>2</td>\n",
       "      <td>92.000000</td>\n",
       "      <td>85.000000</td>\n",
       "      <td>0.76</td>\n",
       "    </tr>\n",
       "    <tr>\n",
       "      <th>2</th>\n",
       "      <td>3</td>\n",
       "      <td>12.000000</td>\n",
       "      <td>91.000000</td>\n",
       "      <td>0.87</td>\n",
       "    </tr>\n",
       "    <tr>\n",
       "      <th>3</th>\n",
       "      <td>4</td>\n",
       "      <td>77.363636</td>\n",
       "      <td>44.000000</td>\n",
       "      <td>0.91</td>\n",
       "    </tr>\n",
       "    <tr>\n",
       "      <th>4</th>\n",
       "      <td>5</td>\n",
       "      <td>45.000000</td>\n",
       "      <td>130.000000</td>\n",
       "      <td>0.65</td>\n",
       "    </tr>\n",
       "    <tr>\n",
       "      <th>5</th>\n",
       "      <td>6</td>\n",
       "      <td>60.000000</td>\n",
       "      <td>39.000000</td>\n",
       "      <td>0.50</td>\n",
       "    </tr>\n",
       "    <tr>\n",
       "      <th>6</th>\n",
       "      <td>7</td>\n",
       "      <td>74.000000</td>\n",
       "      <td>72.000000</td>\n",
       "      <td>0.89</td>\n",
       "    </tr>\n",
       "    <tr>\n",
       "      <th>7</th>\n",
       "      <td>8</td>\n",
       "      <td>99.000000</td>\n",
       "      <td>95.000000</td>\n",
       "      <td>0.97</td>\n",
       "    </tr>\n",
       "    <tr>\n",
       "      <th>8</th>\n",
       "      <td>9</td>\n",
       "      <td>105.000000</td>\n",
       "      <td>88.000000</td>\n",
       "      <td>1.00</td>\n",
       "    </tr>\n",
       "    <tr>\n",
       "      <th>9</th>\n",
       "      <td>10</td>\n",
       "      <td>77.000000</td>\n",
       "      <td>75.363636</td>\n",
       "      <td>0.98</td>\n",
       "    </tr>\n",
       "    <tr>\n",
       "      <th>10</th>\n",
       "      <td>11</td>\n",
       "      <td>59.000000</td>\n",
       "      <td>20.000000</td>\n",
       "      <td>0.92</td>\n",
       "    </tr>\n",
       "    <tr>\n",
       "      <th>11</th>\n",
       "      <td>12</td>\n",
       "      <td>140.000000</td>\n",
       "      <td>67.000000</td>\n",
       "      <td>0.85</td>\n",
       "    </tr>\n",
       "  </tbody>\n",
       "</table>\n",
       "</div>"
      ],
      "text/plain": [
       "    studID        Math     Science  Attendance_Rate\n",
       "0        1   88.000000   76.000000             0.95\n",
       "1        2   92.000000   85.000000             0.76\n",
       "2        3   12.000000   91.000000             0.87\n",
       "3        4   77.363636   44.000000             0.91\n",
       "4        5   45.000000  130.000000             0.65\n",
       "5        6   60.000000   39.000000             0.50\n",
       "6        7   74.000000   72.000000             0.89\n",
       "7        8   99.000000   95.000000             0.97\n",
       "8        9  105.000000   88.000000             1.00\n",
       "9       10   77.000000   75.363636             0.98\n",
       "10      11   59.000000   20.000000             0.92\n",
       "11      12  140.000000   67.000000             0.85"
      ]
     },
     "execution_count": 176,
     "metadata": {},
     "output_type": "execute_result"
    }
   ],
   "source": [
    "df"
   ]
  },
  {
   "cell_type": "code",
   "execution_count": 178,
   "id": "19084c62-cdf4-453c-b46b-c594bd5c83f0",
   "metadata": {},
   "outputs": [],
   "source": [
    "## np.where(cond, true, false)"
   ]
  },
  {
   "cell_type": "code",
   "execution_count": 192,
   "id": "62c45453-e664-4a6b-93ba-56f9f62799d6",
   "metadata": {},
   "outputs": [
    {
     "data": {
      "text/plain": [
       "<Axes: xlabel='Science', ylabel='Density'>"
      ]
     },
     "execution_count": 192,
     "metadata": {},
     "output_type": "execute_result"
    },
    {
     "data": {
      "image/png": "[encoded data removed]",
      "text/plain": [
       "<Figure size 1600x800 with 2 Axes>"
      ]
     },
     "metadata": {},
     "output_type": "display_data"
    }
   ],
   "source": [
    "plt.figure(figsize=(16,8))\n",
    "plt.subplot(2,2,1)\n",
    "sns.boxplot(df['Science'])\n",
    "\n",
    "plt.subplot(2,2,2)\n",
    "sns.kdeplot(df['Science'])\n",
    "\n"
   ]
  },
  {
   "cell_type": "markdown",
   "id": "d6482e45-b6a6-49f9-943a-501df1712bc9",
   "metadata": {},
   "source": [
    "## 3. Chnage skewness"
   ]
  },
  {
   "cell_type": "code",
   "execution_count": 197,
   "id": "b9d8d110-fe09-4961-816c-fda8d0bfd35b",
   "metadata": {},
   "outputs": [
    {
     "name": "stdout",
     "output_type": "stream",
     "text": [
      "\n",
      "Skewness before transformation: -1.5037439566135162\n",
      "Skewness after transformation: -0.5513593594636498\n"
     ]
    },
    {
     "data": {
      "image/png": "[encoded data removed]",
      "text/plain": [
       "<Figure size 1200x400 with 2 Axes>"
      ]
     },
     "metadata": {},
     "output_type": "display_data"
    }
   ],
   "source": [
    "\n",
    "# Check original skewness\n",
    "print(\"\\nSkewness before transformation:\", df['Attendance_Rate'].skew())\n",
    "\n",
    "# Apply log transformation (after adding a small constant to avoid log(0))\n",
    "df['Log_Attendance_Rate'] = np.log(1.01-df['Attendance_Rate'] )\n",
    "\n",
    "# Check skewness again\n",
    "print(\"Skewness after transformation:\", df['Log_Attendance_Rate'].skew())\n",
    "\n",
    "# Plot original and transformed\n",
    "fig, axes = plt.subplots(1, 2, figsize=(12, 4))\n",
    "sns.histplot(df['Attendance_Rate'], ax=axes[0], kde=True)\n",
    "axes[0].set_title(\"Original Attendance Rate\")\n",
    "sns.histplot(df['Log_Attendance_Rate'], ax=axes[1], kde=True)\n",
    "axes[1].set_title(\"Log-Transformed Attendance Rate\")\n",
    "plt.show()\n"
   ]
  },
  {
   "cell_type": "code",
   "execution_count": null,
   "id": "b36cb62f-187a-4bd0-b444-3059d9c866ab",
   "metadata": {},
   "outputs": [],
   "source": []
  }
 ],
 "metadata": {
  "kernelspec": {
   "display_name": "Python [conda env:base] *",
   "language": "python",
   "name": "conda-base-py"
  },
  "language_info": {
   "codemirror_mode": {
    "name": "ipython",
    "version": 3
   },
   "file_extension": ".py",
   "mimetype": "text/x-python",
   "name": "python",
   "nbconvert_exporter": "python",
   "pygments_lexer": "ipython3",
   "version": "3.12.7"
  }
 },
 "nbformat": 4,
 "nbformat_minor": 5
}
