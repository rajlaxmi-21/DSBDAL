{
 "cells": [
  {
   "cell_type": "code",
   "execution_count": 10,
   "id": "4911180f-dfee-4329-8c26-a8b0aba6a27c",
   "metadata": {},
   "outputs": [],
   "source": [
    "import nltk\n",
    "import pandas as pd\n",
    "from nltk.corpus import stopwords\n",
    "from nltk.stem import PorterStemmer ,  WordNetLemmatizer\n",
    "from nltk import pos_tag,word_tokenize\n",
    "from sklearn.feature_extraction.text import TfidfVectorizer"
   ]
  },
  {
   "cell_type": "code",
   "execution_count": 12,
   "id": "5aee6db6-9f07-436f-b2dc-8aa1c7744c63",
   "metadata": {},
   "outputs": [],
   "source": [
    "doc=\"Cats are running faster than the dogs. The dogs were chasing the cats all night long!\""
   ]
  },
  {
   "cell_type": "code",
   "execution_count": 14,
   "id": "5d0b010a-e2ec-4cbb-9787-12ca7dd42a7a",
   "metadata": {},
   "outputs": [
    {
     "data": {
      "text/plain": [
       "'Cats are running faster than the dogs. The dogs were chasing the cats all night long!'"
      ]
     },
     "execution_count": 14,
     "metadata": {},
     "output_type": "execute_result"
    }
   ],
   "source": [
    "doc"
   ]
  },
  {
   "cell_type": "code",
   "execution_count": 20,
   "id": "70aec12b-ff4b-41c4-891d-d178b4d0cd49",
   "metadata": {},
   "outputs": [
    {
     "name": "stderr",
     "output_type": "stream",
     "text": [
      "[nltk_data] Downloading package punkt_tab to\n",
      "[nltk_data]     C:\\Users\\DELL\\AppData\\Roaming\\nltk_data...\n",
      "[nltk_data]   Unzipping tokenizers\\punkt_tab.zip.\n"
     ]
    },
    {
     "data": {
      "text/plain": [
       "True"
      ]
     },
     "execution_count": 20,
     "metadata": {},
     "output_type": "execute_result"
    }
   ],
   "source": [
    "nltk.download('punkt_tab')"
   ]
  },
  {
   "cell_type": "markdown",
   "id": "b4906664-b187-40d6-ae16-47f5dacb9567",
   "metadata": {},
   "source": [
    "## 1. tokenization"
   ]
  },
  {
   "cell_type": "code",
   "execution_count": 47,
   "id": "4633688b-01cd-4835-b081-3b4fc3b5355e",
   "metadata": {},
   "outputs": [
    {
     "data": {
      "text/plain": [
       "['Cats',\n",
       " 'are',\n",
       " 'running',\n",
       " 'faster',\n",
       " 'than',\n",
       " 'the',\n",
       " 'dogs',\n",
       " '.',\n",
       " 'The',\n",
       " 'dogs',\n",
       " 'were',\n",
       " 'chasing',\n",
       " 'the',\n",
       " 'cats',\n",
       " 'all',\n",
       " 'night',\n",
       " 'long',\n",
       " '!']"
      ]
     },
     "execution_count": 47,
     "metadata": {},
     "output_type": "execute_result"
    }
   ],
   "source": [
    "import string\n",
    "tokens = word_tokenize(doc)\n",
    "tokens\n"
   ]
  },
  {
   "cell_type": "markdown",
   "id": "1917f4c9-2e05-4de3-98c9-c2a412e64be9",
   "metadata": {},
   "source": [
    "## 2. pos tagging"
   ]
  },
  {
   "cell_type": "code",
   "execution_count": 50,
   "id": "2808722b-be64-4b96-afea-235f6dd39cab",
   "metadata": {},
   "outputs": [],
   "source": [
    "from nltk import pos_tag"
   ]
  },
  {
   "cell_type": "code",
   "execution_count": 52,
   "id": "e555524f-df28-40c4-bb3c-28bc08db8508",
   "metadata": {},
   "outputs": [
    {
     "name": "stderr",
     "output_type": "stream",
     "text": [
      "[nltk_data] Downloading package averaged_perceptron_tagger_eng to\n",
      "[nltk_data]     C:\\Users\\DELL\\AppData\\Roaming\\nltk_data...\n",
      "[nltk_data]   Package averaged_perceptron_tagger_eng is already up-to-\n",
      "[nltk_data]       date!\n"
     ]
    },
    {
     "data": {
      "text/plain": [
       "True"
      ]
     },
     "execution_count": 52,
     "metadata": {},
     "output_type": "execute_result"
    }
   ],
   "source": [
    " nltk.download('averaged_perceptron_tagger_eng')"
   ]
  },
  {
   "cell_type": "code",
   "execution_count": 54,
   "id": "7d0fb992-113f-4535-a0bf-a73b9d28cda8",
   "metadata": {},
   "outputs": [],
   "source": [
    "p=pos_tag(tokens)"
   ]
  },
  {
   "cell_type": "code",
   "execution_count": 56,
   "id": "c3cbe937-a35e-481e-90c8-c318130de087",
   "metadata": {},
   "outputs": [
    {
     "data": {
      "text/plain": [
       "[('Cats', 'NNS'),\n",
       " ('are', 'VBP'),\n",
       " ('running', 'VBG'),\n",
       " ('faster', 'RBR'),\n",
       " ('than', 'IN'),\n",
       " ('the', 'DT'),\n",
       " ('dogs', 'NNS'),\n",
       " ('.', '.'),\n",
       " ('The', 'DT'),\n",
       " ('dogs', 'NNS'),\n",
       " ('were', 'VBD'),\n",
       " ('chasing', 'VBG'),\n",
       " ('the', 'DT'),\n",
       " ('cats', 'NNS'),\n",
       " ('all', 'DT'),\n",
       " ('night', 'NN'),\n",
       " ('long', 'RB'),\n",
       " ('!', '.')]"
      ]
     },
     "execution_count": 56,
     "metadata": {},
     "output_type": "execute_result"
    }
   ],
   "source": [
    "p"
   ]
  },
  {
   "cell_type": "markdown",
   "id": "33811b05-d9ab-4a5b-88c9-100476944ae8",
   "metadata": {},
   "source": [
    "## 3. Remove punctuation and stop words"
   ]
  },
  {
   "cell_type": "code",
   "execution_count": 59,
   "id": "764eeff5-6175-4985-bcf5-2f8ca3838585",
   "metadata": {},
   "outputs": [],
   "source": [
    "tokens= [token for token in tokens if token not in string.punctuation]"
   ]
  },
  {
   "cell_type": "code",
   "execution_count": 61,
   "id": "19011ae6-7ca0-4198-81f8-8b444d67f80f",
   "metadata": {},
   "outputs": [
    {
     "data": {
      "text/plain": [
       "['Cats',\n",
       " 'are',\n",
       " 'running',\n",
       " 'faster',\n",
       " 'than',\n",
       " 'the',\n",
       " 'dogs',\n",
       " 'The',\n",
       " 'dogs',\n",
       " 'were',\n",
       " 'chasing',\n",
       " 'the',\n",
       " 'cats',\n",
       " 'all',\n",
       " 'night',\n",
       " 'long']"
      ]
     },
     "execution_count": 61,
     "metadata": {},
     "output_type": "execute_result"
    }
   ],
   "source": [
    "tokens"
   ]
  },
  {
   "cell_type": "code",
   "execution_count": 63,
   "id": "2a89b4af-678f-42b9-8818-ec0467838270",
   "metadata": {},
   "outputs": [],
   "source": [
    "from nltk.corpus import stopwords"
   ]
  },
  {
   "cell_type": "code",
   "execution_count": 67,
   "id": "8598e529-2529-4dcb-acc6-5e439a418a11",
   "metadata": {},
   "outputs": [
    {
     "name": "stderr",
     "output_type": "stream",
     "text": [
      "[nltk_data] Downloading package stopwords to\n",
      "[nltk_data]     C:\\Users\\DELL\\AppData\\Roaming\\nltk_data...\n",
      "[nltk_data]   Unzipping corpora\\stopwords.zip.\n"
     ]
    },
    {
     "data": {
      "text/plain": [
       "True"
      ]
     },
     "execution_count": 67,
     "metadata": {},
     "output_type": "execute_result"
    }
   ],
   "source": [
    "nltk.download('stopwords')"
   ]
  },
  {
   "cell_type": "code",
   "execution_count": 69,
   "id": "4c136939-f43e-4089-ba8f-1a55a9495cde",
   "metadata": {},
   "outputs": [],
   "source": [
    "s= set(stopwords.words('english'))"
   ]
  },
  {
   "cell_type": "code",
   "execution_count": 73,
   "id": "de4ff395-2eb2-4bde-b280-57d4a6b169d0",
   "metadata": {},
   "outputs": [],
   "source": [
    "filtered = [token for token in tokens if token.lower() not in s]"
   ]
  },
  {
   "cell_type": "code",
   "execution_count": 75,
   "id": "5305fdc2-026d-4667-a69c-fc349802b713",
   "metadata": {},
   "outputs": [
    {
     "data": {
      "text/plain": [
       "['Cats',\n",
       " 'running',\n",
       " 'faster',\n",
       " 'dogs',\n",
       " 'dogs',\n",
       " 'chasing',\n",
       " 'cats',\n",
       " 'night',\n",
       " 'long']"
      ]
     },
     "execution_count": 75,
     "metadata": {},
     "output_type": "execute_result"
    }
   ],
   "source": [
    "filtered"
   ]
  },
  {
   "cell_type": "markdown",
   "id": "f9b938b1-3381-48ac-8cf9-a12edd21b5a1",
   "metadata": {},
   "source": [
    "## 4. Stemming"
   ]
  },
  {
   "cell_type": "code",
   "execution_count": 79,
   "id": "cd0e9caf-7c23-474a-be57-9e41515186ab",
   "metadata": {},
   "outputs": [],
   "source": [
    "from nltk.stem import PorterStemmer"
   ]
  },
  {
   "cell_type": "code",
   "execution_count": 81,
   "id": "3f918c10-7f9a-4b0e-88c7-cf1de0388298",
   "metadata": {},
   "outputs": [],
   "source": [
    "s= PorterStemmer()"
   ]
  },
  {
   "cell_type": "code",
   "execution_count": 83,
   "id": "6b096e75-14e4-4e26-a48e-7e31aac7ee51",
   "metadata": {},
   "outputs": [],
   "source": [
    "sd=[s.stem(w) for w in filtered]"
   ]
  },
  {
   "cell_type": "code",
   "execution_count": 85,
   "id": "4b951c4a-4379-40a0-8f8a-432c9c36ce00",
   "metadata": {},
   "outputs": [
    {
     "data": {
      "text/plain": [
       "['cat', 'run', 'faster', 'dog', 'dog', 'chase', 'cat', 'night', 'long']"
      ]
     },
     "execution_count": 85,
     "metadata": {},
     "output_type": "execute_result"
    }
   ],
   "source": [
    "sd"
   ]
  },
  {
   "cell_type": "markdown",
   "id": "2d4abca0-2241-48e8-beb0-8df08b11f44f",
   "metadata": {},
   "source": [
    "## 5. Lemmetization"
   ]
  },
  {
   "cell_type": "code",
   "execution_count": 88,
   "id": "9f5aa122-90a3-4939-9f92-4140a7bdbe73",
   "metadata": {},
   "outputs": [],
   "source": [
    "from nltk.stem import WordNetLemmatizer"
   ]
  },
  {
   "cell_type": "code",
   "execution_count": 90,
   "id": "494c6882-8293-4dee-8cc8-c121ae592bd1",
   "metadata": {},
   "outputs": [
    {
     "name": "stderr",
     "output_type": "stream",
     "text": [
      "[nltk_data] Downloading package wordnet to\n",
      "[nltk_data]     C:\\Users\\DELL\\AppData\\Roaming\\nltk_data...\n"
     ]
    },
    {
     "data": {
      "text/plain": [
       "True"
      ]
     },
     "execution_count": 90,
     "metadata": {},
     "output_type": "execute_result"
    }
   ],
   "source": [
    "nltk.download('wordnet')"
   ]
  },
  {
   "cell_type": "code",
   "execution_count": 94,
   "id": "6c0f33e1-6266-41a4-8165-4632afd709a3",
   "metadata": {},
   "outputs": [],
   "source": [
    "l= WordNetLemmatizer()"
   ]
  },
  {
   "cell_type": "code",
   "execution_count": 96,
   "id": "29f9bb20-d818-4136-bdb1-b8a1d10a24db",
   "metadata": {},
   "outputs": [],
   "source": [
    "ld= [l.lemmatize(w) for w in filtered]"
   ]
  },
  {
   "cell_type": "code",
   "execution_count": 98,
   "id": "ad571120-5239-4db2-be3c-7e06a50f956e",
   "metadata": {},
   "outputs": [
    {
     "data": {
      "text/plain": [
       "['Cats', 'running', 'faster', 'dog', 'dog', 'chasing', 'cat', 'night', 'long']"
      ]
     },
     "execution_count": 98,
     "metadata": {},
     "output_type": "execute_result"
    }
   ],
   "source": [
    "ld"
   ]
  },
  {
   "cell_type": "markdown",
   "id": "6b59c948-4535-4738-8b45-3390f999cca6",
   "metadata": {},
   "source": [
    "## 6. TFIDF"
   ]
  },
  {
   "cell_type": "code",
   "execution_count": 101,
   "id": "f90c4b8b-963a-48cb-81f4-403e5f86ab64",
   "metadata": {},
   "outputs": [],
   "source": [
    "from sklearn.feature_extraction.text import TfidfVectorizer"
   ]
  },
  {
   "cell_type": "code",
   "execution_count": 105,
   "id": "7f15a929-90fe-42fd-bdba-e2ec28f5fe21",
   "metadata": {},
   "outputs": [],
   "source": [
    "corpus = [' '.join(filtered)]"
   ]
  },
  {
   "cell_type": "code",
   "execution_count": 107,
   "id": "30f6c045-fbac-4875-a4d3-0ac501431def",
   "metadata": {},
   "outputs": [],
   "source": [
    "v= TfidfVectorizer()"
   ]
  },
  {
   "cell_type": "code",
   "execution_count": 109,
   "id": "a9f13567-826e-4925-9f21-02e0921f72fe",
   "metadata": {},
   "outputs": [],
   "source": [
    "tf= v.fit_transform(corpus)"
   ]
  },
  {
   "cell_type": "code",
   "execution_count": 119,
   "id": "eb93e878-f155-4dd2-9f15-763ee538173d",
   "metadata": {},
   "outputs": [],
   "source": [
    "tf=tf.toarray()"
   ]
  },
  {
   "cell_type": "code",
   "execution_count": 121,
   "id": "08c3194c-257f-4664-84da-60cc848ce9e4",
   "metadata": {},
   "outputs": [
    {
     "data": {
      "text/plain": [
       "array(['cats', 'chasing', 'dogs', 'faster', 'long', 'night', 'running'],\n",
       "      dtype=object)"
      ]
     },
     "execution_count": 121,
     "metadata": {},
     "output_type": "execute_result"
    }
   ],
   "source": [
    "v.get_feature_names_out()"
   ]
  },
  {
   "cell_type": "code",
   "execution_count": 123,
   "id": "ea32e5e5-70ea-45a8-8869-46586c41569f",
   "metadata": {},
   "outputs": [],
   "source": [
    "df=pd.DataFrame(tf)"
   ]
  },
  {
   "cell_type": "code",
   "execution_count": 125,
   "id": "177a56aa-4153-403e-8b8a-a57d96db025d",
   "metadata": {},
   "outputs": [
    {
     "data": {
      "text/html": [
       "<div>\n",
       "<style scoped>\n",
       "    .dataframe tbody tr th:only-of-type {\n",
       "        vertical-align: middle;\n",
       "    }\n",
       "\n",
       "    .dataframe tbody tr th {\n",
       "        vertical-align: top;\n",
       "    }\n",
       "\n",
       "    .dataframe thead th {\n",
       "        text-align: right;\n",
       "    }\n",
       "</style>\n",
       "<table border=\"1\" class=\"dataframe\">\n",
       "  <thead>\n",
       "    <tr style=\"text-align: right;\">\n",
       "      <th></th>\n",
       "      <th>0</th>\n",
       "      <th>1</th>\n",
       "      <th>2</th>\n",
       "      <th>3</th>\n",
       "      <th>4</th>\n",
       "      <th>5</th>\n",
       "      <th>6</th>\n",
       "    </tr>\n",
       "  </thead>\n",
       "  <tbody>\n",
       "    <tr>\n",
       "      <th>0</th>\n",
       "      <td>0.5547</td>\n",
       "      <td>0.27735</td>\n",
       "      <td>0.5547</td>\n",
       "      <td>0.27735</td>\n",
       "      <td>0.27735</td>\n",
       "      <td>0.27735</td>\n",
       "      <td>0.27735</td>\n",
       "    </tr>\n",
       "  </tbody>\n",
       "</table>\n",
       "</div>"
      ],
      "text/plain": [
       "        0        1       2        3        4        5        6\n",
       "0  0.5547  0.27735  0.5547  0.27735  0.27735  0.27735  0.27735"
      ]
     },
     "execution_count": 125,
     "metadata": {},
     "output_type": "execute_result"
    }
   ],
   "source": [
    "df"
   ]
  },
  {
   "cell_type": "code",
   "execution_count": null,
   "id": "838e8383-20b9-43a4-a21d-f3cacb4135fe",
   "metadata": {},
   "outputs": [],
   "source": []
  }
 ],
 "metadata": {
  "kernelspec": {
   "display_name": "Python [conda env:base] *",
   "language": "python",
   "name": "conda-base-py"
  },
  "language_info": {
   "codemirror_mode": {
    "name": "ipython",
    "version": 3
   },
   "file_extension": ".py",
   "mimetype": "text/x-python",
   "name": "python",
   "nbconvert_exporter": "python",
   "pygments_lexer": "ipython3",
   "version": "3.12.7"
  }
 },
 "nbformat": 4,
 "nbformat_minor": 5
}
