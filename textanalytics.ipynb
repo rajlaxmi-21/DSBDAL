{
 "cells": [
  {
   "cell_type": "code",
   "execution_count": 1,
   "id": "f829ca72-eaa2-4a93-b28f-8d2de1314f48",
   "metadata": {},
   "outputs": [
    {
     "ename": "ModuleNotFoundError",
     "evalue": "No module named 'nltk'",
     "output_type": "error",
     "traceback": [
      "\u001b[1;31m---------------------------------------------------------------------------\u001b[0m",
      "\u001b[1;31mModuleNotFoundError\u001b[0m                       Traceback (most recent call last)",
      "Cell \u001b[1;32mIn[1], line 2\u001b[0m\n\u001b[0;32m      1\u001b[0m \u001b[38;5;28;01mimport\u001b[39;00m \u001b[38;5;21;01mstring\u001b[39;00m\n\u001b[1;32m----> 2\u001b[0m \u001b[38;5;28;01mimport\u001b[39;00m \u001b[38;5;21;01mnltk\u001b[39;00m\n",
      "\u001b[1;31mModuleNotFoundError\u001b[0m: No module named 'nltk'"
     ]
    }
   ],
   "source": [
    "import string\n",
    "import nltk"
   ]
  },
  {
   "cell_type": "code",
   "execution_count": 3,
   "id": "9a085314-87c9-4697-91b7-719f0a8cd2df",
   "metadata": {},
   "outputs": [
    {
     "name": "stdout",
     "output_type": "stream",
     "text": [
      "Collecting nltk\n",
      "  Using cached nltk-3.9.1-py3-none-any.whl.metadata (2.9 kB)\n",
      "Collecting click (from nltk)\n",
      "  Using cached click-8.1.8-py3-none-any.whl.metadata (2.3 kB)\n",
      "Requirement already satisfied: joblib in c:\\users\\dell\\anaconda3\\envs\\machinelearning\\lib\\site-packages (from nltk) (1.4.2)\n",
      "Collecting regex>=2021.8.3 (from nltk)\n",
      "  Downloading regex-2024.11.6-cp313-cp313-win_amd64.whl.metadata (41 kB)\n",
      "Requirement already satisfied: tqdm in c:\\users\\dell\\anaconda3\\envs\\machinelearning\\lib\\site-packages (from nltk) (4.67.1)\n",
      "Requirement already satisfied: colorama in c:\\users\\dell\\anaconda3\\envs\\machinelearning\\lib\\site-packages (from click->nltk) (0.4.6)\n",
      "Using cached nltk-3.9.1-py3-none-any.whl (1.5 MB)\n",
      "Downloading regex-2024.11.6-cp313-cp313-win_amd64.whl (273 kB)\n",
      "Using cached click-8.1.8-py3-none-any.whl (98 kB)\n",
      "Installing collected packages: regex, click, nltk\n",
      "Successfully installed click-8.1.8 nltk-3.9.1 regex-2024.11.6\n"
     ]
    },
    {
     "name": "stderr",
     "output_type": "stream",
     "text": [
      "\n",
      "[notice] A new release of pip is available: 25.0.1 -> 25.1.1\n",
      "[notice] To update, run: python.exe -m pip install --upgrade pip\n"
     ]
    }
   ],
   "source": [
    "!pip install nltk"
   ]
  },
  {
   "cell_type": "code",
   "execution_count": 5,
   "id": "067ed542-240c-4c99-ba4c-cec2e456575a",
   "metadata": {},
   "outputs": [],
   "source": [
    "import string\n",
    "import nltk"
   ]
  },
  {
   "cell_type": "code",
   "execution_count": 7,
   "id": "7623ab3f-ed12-4fb0-933a-d25e558c10a4",
   "metadata": {},
   "outputs": [],
   "source": [
    "from sklearn.feature_extraction.text import TfidfVectorizer\n",
    "\n",
    "# Sample documents\n",
    "documents = [\n",
    "    \"The sky is blue and beautiful.\",\n",
    "    \"Love this blue and beautiful sky!\",\n",
    "    \"The quick brown fox jumps over the lazy dog.\",\n",
    "    \"A king's breakfast has sausages, ham, bacon, eggs, toast and beans\",\n",
    "    \"I love green eggs, ham, sausages and bacon!\",\n",
    "    \"The brown fox is quick and the blue dog is lazy!\",\n",
    "    \"The sky is very blue and the sky is very beautiful today\"\n",
    "]\n",
    "\n",
    "\n"
   ]
  },
  {
   "cell_type": "code",
   "execution_count": 9,
   "id": "eb452e4e-1214-4620-89e2-3fa095b4bf0b",
   "metadata": {},
   "outputs": [],
   "source": [
    "from nltk import word_tokenize"
   ]
  },
  {
   "cell_type": "code",
   "execution_count": 11,
   "id": "40b69888-5940-4465-be0c-088817f09fcb",
   "metadata": {},
   "outputs": [
    {
     "data": {
      "text/plain": [
       "['Quick',\n",
       " 'brown',\n",
       " 'fox',\n",
       " 'ran',\n",
       " 'over',\n",
       " 'the',\n",
       " 'squirrel',\n",
       " 'who',\n",
       " 'was',\n",
       " 'also',\n",
       " 'running',\n",
       " 'very',\n",
       " 'slow',\n",
       " '.',\n",
       " 'The',\n",
       " 'squirrel',\n",
       " 'got',\n",
       " 'injured',\n",
       " 'and',\n",
       " 'died',\n",
       " '.',\n",
       " 'Brown',\n",
       " 'fox',\n",
       " 'was',\n",
       " 'not',\n",
       " 'happy',\n",
       " 'and',\n",
       " 'killed',\n",
       " 'himself',\n",
       " '.']"
      ]
     },
     "execution_count": 11,
     "metadata": {},
     "output_type": "execute_result"
    }
   ],
   "source": [
    "tokens = word_tokenize(doc)\n",
    "tokens"
   ]
  },
  {
   "cell_type": "code",
   "execution_count": 15,
   "id": "6d2428c2-950d-4053-827e-0ef867f945ce",
   "metadata": {},
   "outputs": [],
   "source": [
    "tokens = [token for token in tokens if token not in string.punctuation]"
   ]
  },
  {
   "cell_type": "code",
   "execution_count": 17,
   "id": "d0da9106-404f-4888-9660-29978e328ada",
   "metadata": {},
   "outputs": [
    {
     "data": {
      "text/plain": [
       "['Quick',\n",
       " 'brown',\n",
       " 'fox',\n",
       " 'ran',\n",
       " 'over',\n",
       " 'the',\n",
       " 'squirrel',\n",
       " 'who',\n",
       " 'was',\n",
       " 'also',\n",
       " 'running',\n",
       " 'very',\n",
       " 'slow',\n",
       " 'The',\n",
       " 'squirrel',\n",
       " 'got',\n",
       " 'injured',\n",
       " 'and',\n",
       " 'died',\n",
       " 'Brown',\n",
       " 'fox',\n",
       " 'was',\n",
       " 'not',\n",
       " 'happy',\n",
       " 'and',\n",
       " 'killed',\n",
       " 'himself']"
      ]
     },
     "execution_count": 17,
     "metadata": {},
     "output_type": "execute_result"
    }
   ],
   "source": [
    "tokens"
   ]
  },
  {
   "cell_type": "code",
   "execution_count": 19,
   "id": "9bf1e9d0-4944-4a98-a264-4e05322edee8",
   "metadata": {},
   "outputs": [],
   "source": [
    "from nltk.corpus import stopwords"
   ]
  },
  {
   "cell_type": "code",
   "execution_count": 21,
   "id": "6bdcfb2e-ce4b-4aa7-af99-af8ad51a5630",
   "metadata": {},
   "outputs": [],
   "source": [
    "s=set(stopwords.words('english'))"
   ]
  },
  {
   "cell_type": "code",
   "execution_count": 27,
   "id": "3b3f44b5-c05a-4e8c-92fe-c674b01563f5",
   "metadata": {},
   "outputs": [],
   "source": [
    "tokens = [t for t in tokens if t not in s]"
   ]
  },
  {
   "cell_type": "code",
   "execution_count": 29,
   "id": "541158b9-935d-441f-8f0b-67bce3b65ac3",
   "metadata": {},
   "outputs": [
    {
     "data": {
      "text/plain": [
       "['Quick',\n",
       " 'brown',\n",
       " 'fox',\n",
       " 'ran',\n",
       " 'squirrel',\n",
       " 'also',\n",
       " 'running',\n",
       " 'slow',\n",
       " 'The',\n",
       " 'squirrel',\n",
       " 'got',\n",
       " 'injured',\n",
       " 'died',\n",
       " 'Brown',\n",
       " 'fox',\n",
       " 'happy',\n",
       " 'killed']"
      ]
     },
     "execution_count": 29,
     "metadata": {},
     "output_type": "execute_result"
    }
   ],
   "source": [
    "tokens"
   ]
  },
  {
   "cell_type": "code",
   "execution_count": 31,
   "id": "cef96af4-fd47-4df4-96e2-98d18e0984d9",
   "metadata": {},
   "outputs": [],
   "source": [
    "from nltk import pos_tag"
   ]
  },
  {
   "cell_type": "code",
   "execution_count": 33,
   "id": "1600c824-2382-412a-8c07-e276936ed41c",
   "metadata": {},
   "outputs": [],
   "source": [
    "p=pos_tag(tokens)"
   ]
  },
  {
   "cell_type": "code",
   "execution_count": 35,
   "id": "48cedb82-9688-420d-9a82-53ec4eb5f9a2",
   "metadata": {},
   "outputs": [
    {
     "data": {
      "text/plain": [
       "[('Quick', 'NNP'),\n",
       " ('brown', 'NN'),\n",
       " ('fox', 'NN'),\n",
       " ('ran', 'VBD'),\n",
       " ('squirrel', 'NN'),\n",
       " ('also', 'RB'),\n",
       " ('running', 'VBG'),\n",
       " ('slow', 'VB'),\n",
       " ('The', 'DT'),\n",
       " ('squirrel', 'NN'),\n",
       " ('got', 'VBD'),\n",
       " ('injured', 'JJ'),\n",
       " ('died', 'VBD'),\n",
       " ('Brown', 'NNP'),\n",
       " ('fox', 'NN'),\n",
       " ('happy', 'JJ'),\n",
       " ('killed', 'VBD')]"
      ]
     },
     "execution_count": 35,
     "metadata": {},
     "output_type": "execute_result"
    }
   ],
   "source": [
    "p"
   ]
  },
  {
   "cell_type": "code",
   "execution_count": 37,
   "id": "316f021a-3f48-462c-9df9-78d4c8c83957",
   "metadata": {},
   "outputs": [],
   "source": [
    "from nltk.stem import PorterStemmer "
   ]
  },
  {
   "cell_type": "code",
   "execution_count": 39,
   "id": "ff905614-1187-43a5-a6ea-220896170dcb",
   "metadata": {},
   "outputs": [],
   "source": [
    "ps= PorterStemmer()"
   ]
  },
  {
   "cell_type": "code",
   "execution_count": 41,
   "id": "572676e4-7361-4e31-befc-d883ccc5018f",
   "metadata": {},
   "outputs": [],
   "source": [
    "tokens = [ps.stem(t) for t in tokens]"
   ]
  },
  {
   "cell_type": "code",
   "execution_count": 43,
   "id": "9793ce83-b8f3-4a81-a3cd-4f1b2eaf0057",
   "metadata": {},
   "outputs": [
    {
     "data": {
      "text/plain": [
       "['quick',\n",
       " 'brown',\n",
       " 'fox',\n",
       " 'ran',\n",
       " 'squirrel',\n",
       " 'also',\n",
       " 'run',\n",
       " 'slow',\n",
       " 'the',\n",
       " 'squirrel',\n",
       " 'got',\n",
       " 'injur',\n",
       " 'die',\n",
       " 'brown',\n",
       " 'fox',\n",
       " 'happi',\n",
       " 'kill']"
      ]
     },
     "execution_count": 43,
     "metadata": {},
     "output_type": "execute_result"
    }
   ],
   "source": [
    "tokens"
   ]
  },
  {
   "cell_type": "code",
   "execution_count": 63,
   "id": "e2b8a6e2-5d92-4388-84ca-6f2ef3d17215",
   "metadata": {},
   "outputs": [],
   "source": [
    "from nltk.stem import WordNetLemmatizer\n",
    "from nltk.corpus import wordnet"
   ]
  },
  {
   "cell_type": "code",
   "execution_count": 65,
   "id": "88f2e355-ee21-40b2-a556-8738197a0012",
   "metadata": {},
   "outputs": [],
   "source": [
    "lemma=WordNetLemmatizer()"
   ]
  },
  {
   "cell_type": "code",
   "execution_count": 67,
   "id": "830f6afb-64f5-44b4-85dc-68e5d6b4f980",
   "metadata": {},
   "outputs": [],
   "source": [
    "def get_tag(tag):\n",
    "    if(tag.startswith('J')):\n",
    "        return wordnet.ADJ\n",
    "    elif tag.startswith('V'):\n",
    "        return wordnet.VERB\n",
    "    elif tag.startswith('N'):\n",
    "        return wordnet.NOUN\n",
    "    elif tag.startswith('R'):\n",
    "        return wordnet.ADV\n",
    "    else:\n",
    "        return wordnet.NOUN"
   ]
  },
  {
   "cell_type": "code",
   "execution_count": 69,
   "id": "6549e144-c04b-4994-957f-ac30b9b16ccc",
   "metadata": {},
   "outputs": [],
   "source": [
    "tokens = [lemma.lemmatize(word, get_tag(tag)) for word, tag in p]"
   ]
  },
  {
   "cell_type": "code",
   "execution_count": 71,
   "id": "57c3f576-338d-491d-baf3-6bb7475356e0",
   "metadata": {},
   "outputs": [
    {
     "data": {
      "text/plain": [
       "['Quick',\n",
       " 'brown',\n",
       " 'fox',\n",
       " 'run',\n",
       " 'squirrel',\n",
       " 'also',\n",
       " 'run',\n",
       " 'slow',\n",
       " 'The',\n",
       " 'squirrel',\n",
       " 'get',\n",
       " 'injured',\n",
       " 'die',\n",
       " 'Brown',\n",
       " 'fox',\n",
       " 'happy',\n",
       " 'kill']"
      ]
     },
     "execution_count": 71,
     "metadata": {},
     "output_type": "execute_result"
    }
   ],
   "source": [
    "tokens"
   ]
  },
  {
   "cell_type": "code",
   "execution_count": null,
   "id": "e4c14f05-74e8-4a9b-838e-1071d9ff9daf",
   "metadata": {},
   "outputs": [],
   "source": []
  }
 ],
 "metadata": {
  "kernelspec": {
   "display_name": "Python [conda env:machinelearning]",
   "language": "python",
   "name": "conda-env-machinelearning-py"
  },
  "language_info": {
   "codemirror_mode": {
    "name": "ipython",
    "version": 3
   },
   "file_extension": ".py",
   "mimetype": "text/x-python",
   "name": "python",
   "nbconvert_exporter": "python",
   "pygments_lexer": "ipython3",
   "version": "3.13.2"
  }
 },
 "nbformat": 4,
 "nbformat_minor": 5
}
